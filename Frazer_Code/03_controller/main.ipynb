{
 "cells": [
  {
   "cell_type": "code",
   "execution_count": null,
   "metadata": {},
   "outputs": [],
   "source": [
    "import os \n",
    "import sys\n",
    "\n",
    "import array\n",
    "import struct\n",
    "\n",
    "from fcntl import ioctl\n"
   ]
  },
  {
   "cell_type": "code",
   "execution_count": null,
   "metadata": {},
   "outputs": [],
   "source": [
    "axis_names = {\n",
    "    0x00: 'x',\n",
    "    0x01: 'y',\n",
    "    0x02: 'z',\n",
    "    0x03: 'rx',\n",
    "    0x04: 'ry',\n",
    "    0x05: 'rz',\n",
    "    0x06: 'throttle',\n",
    "    0x07: 'rudder',\n",
    "    0x08: 'wheel',\n",
    "    0x09: 'gas',\n",
    "    0x0a: 'brake',\n",
    "    0x10: 'hat0x',\n",
    "    0x11: 'hat0y',\n",
    "    0x12: 'hat1x',\n",
    "    0x13: 'hat1y',\n",
    "    0x14: 'hat2x',\n",
    "    0x15: 'hat2y',\n",
    "    0x16: 'hat3x',\n",
    "    0x17: 'hat3y',\n",
    "    0x18: 'pressure',\n",
    "    0x19: 'distance',\n",
    "    0x1a: 'tilt_x',\n",
    "    0x1b: 'tilt_y',\n",
    "    0x1c: 'tool_width',\n",
    "    0x20: 'volume',\n",
    "    0x28: 'misc',\n",
    "}\n",
    "\n",
    "button_names = {\n",
    "    0x120: 'trigger',\n",
    "    0x121: 'thumb',\n",
    "    0x122: 'thumb2',\n",
    "    0x123: 'top',\n",
    "    0x124: 'top2',\n",
    "    0x125: 'pinkie',\n",
    "    0x126: 'base',\n",
    "    0x127: 'base2',\n",
    "    0x128: 'base3',\n",
    "    0x129: 'base4',\n",
    "    0x12a: 'base5',\n",
    "    0x12b: 'base6',\n",
    "    0x12f: 'dead',\n",
    "    0x130: 'a',\n",
    "    0x131: 'b',\n",
    "    0x132: 'c',\n",
    "    0x133: 'x',\n",
    "    0x134: 'y',\n",
    "    0x135: 'z',\n",
    "    0x136: 'tl',\n",
    "    0x137: 'tr',\n",
    "    0x138: 'tl2',\n",
    "    0x139: 'tr2',\n",
    "    0x13a: 'select',\n",
    "    0x13b: 'start',\n",
    "    0x13c: 'mode',\n",
    "    0x13d: 'thumbl',\n",
    "    0x13e: 'thumbr',\n",
    "\n",
    "    0x220: 'dpad_up',\n",
    "    0x221: 'dpad_down',\n",
    "    0x222: 'dpad_left',\n",
    "    0x223: 'dpad_right',\n",
    "\n",
    "    # XBox 360 controller uses these codes.\n",
    "    0x2c0: 'dpad_left',\n",
    "    0x2c1: 'dpad_right',\n",
    "    0x2c2: 'dpad_up',\n",
    "    0x2c3: 'dpad_down',\n",
    "}\n"
   ]
  },
  {
   "cell_type": "code",
   "execution_count": null,
   "metadata": {},
   "outputs": [],
   "source": [
    "print(\"Available Devices\")\n",
    "\n",
    "for fn in os.listdir(\"/dev/input/\"):\n",
    "    if fn.startswith(\"js\"):\n",
    "        print(\"    /dev/input/{}\".format(fn))\n"
   ]
  },
  {
   "cell_type": "code",
   "execution_count": null,
   "metadata": {},
   "outputs": [],
   "source": [
    "fn = \"/dev/input/js0\"\n",
    "\n",
    "print(\"Opening {}\".format(fn))\n",
    "\n",
    "jsdev = open(fn, 'rb')\n"
   ]
  },
  {
   "cell_type": "code",
   "execution_count": null,
   "metadata": {},
   "outputs": [],
   "source": [
    "buf = array.array('B', [0]*64)\n",
    "\n",
    "ioctl(jsdev, 0x80006a13 + (0x10000 * len(buf)), buf)\n",
    "\n",
    "js_name = buf.tobytes().strip(b'\\x00').decode()\n",
    "\n",
    "print(js_name)\n"
   ]
  },
  {
   "cell_type": "code",
   "execution_count": null,
   "metadata": {},
   "outputs": [],
   "source": [
    "buf = array.array('B', [0]*1)\n",
    "\n",
    "ioctl(jsdev, 0x80016a11, buf)\n",
    "\n",
    "num_axes = buf[0]\n",
    "\n",
    "print(num_axes)\n"
   ]
  },
  {
   "cell_type": "code",
   "execution_count": null,
   "metadata": {},
   "outputs": [],
   "source": [
    "buf = array.array('B', [0]*1)\n",
    "\n",
    "ioctl(jsdev, 0x80016a12, buf)\n",
    "\n",
    "num_buttons = buf[0]\n",
    "\n",
    "print(num_buttons)\n"
   ]
  },
  {
   "cell_type": "code",
   "execution_count": null,
   "metadata": {},
   "outputs": [],
   "source": [
    "buf = array.array('B', [0]*64)\n",
    "\n",
    "ioctl(jsdev, 0x80406a32, buf)\n",
    "\n",
    "axis_map = []\n",
    "axis_states = []\n",
    "for axis in buf[:num_axes]:\n",
    "    axis_name = axis_names.get(axis)\n",
    "    axis_map.append(axis_name)\n",
    "    axis_states.append(0)\n",
    "\n",
    "    print(\"{}: {}\".format(hex(axis), axis_name))\n",
    "   "
   ]
  },
  {
   "cell_type": "code",
   "execution_count": null,
   "metadata": {},
   "outputs": [],
   "source": [
    "buf = array.array('H', [0]*64)\n",
    "\n",
    "ioctl(jsdev, 0x80406a34, buf)\n",
    "\n",
    "btn_map = []\n",
    "btn_states = []\n",
    "\n",
    "for btn in buf[:num_buttons]:\n",
    "    btn_name = button_names.get(btn)\n",
    "    btn_map.append(btn_name)\n",
    "    btn_states.append(0)\n",
    "\n",
    "    print(\"{}: {}\".format(hex(btn), btn_name))\n"
   ]
  },
  {
   "cell_type": "code",
   "execution_count": null,
   "metadata": {},
   "outputs": [],
   "source": [
    "while True:\n",
    "    evbuf = jsdev.read(8)\n",
    "\n",
    "    if evbuf:\n",
    "        time, value, type, number  = struct.unpack('IhBB', evbuf)\n",
    "\n",
    "        if type & 0x80:\n",
    "            print(\"(initial)\", end=\"\")\n",
    "\n",
    "        if type & 0x01:\n",
    "            btn = btn_map[number]\n",
    "            if btn:\n",
    "                # btn_states[btn] = value\n",
    "                btn_states[number] = value\n",
    "                if value:\n",
    "                    print(\"{} pressed\".format(btn))\n",
    "                else:\n",
    "                    print(\"{} released\".format(btn))\n",
    "        \n",
    "        if type & 0x02:\n",
    "            axis = axis_map[number]\n",
    "            if axis:\n",
    "                fvalue = value / 32767.0\n",
    "                # axis_states[axis] = fvalue\n",
    "                axis_states[number] = fvalue\n",
    "                print(\"{}: {:.3f}\".format(axis, fvalue))\n"
   ]
  },
  {
   "cell_type": "code",
   "execution_count": null,
   "metadata": {},
   "outputs": [],
   "source": [
    "print(\"Closing {}\".format(fn))\n",
    "\n",
    "jsdev.close()\n"
   ]
  }
 ],
 "metadata": {
  "kernelspec": {
   "display_name": "Python 3.8.10 64-bit",
   "language": "python",
   "name": "python3"
  },
  "language_info": {
   "name": "python",
   "version": "3.8.10"
  },
  "orig_nbformat": 4,
  "vscode": {
   "interpreter": {
    "hash": "9650cb4e16cdd4a8e8e2d128bf38d875813998db22a3c986335f89e0cb4d7bb2"
   }
  }
 },
 "nbformat": 4,
 "nbformat_minor": 2
}
