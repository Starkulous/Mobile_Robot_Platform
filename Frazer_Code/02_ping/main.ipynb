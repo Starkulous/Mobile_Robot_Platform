{
 "cells": [
  {
   "cell_type": "code",
   "execution_count": 15,
   "metadata": {},
   "outputs": [],
   "source": [
    "import socket"
   ]
  },
  {
   "cell_type": "code",
   "execution_count": 16,
   "metadata": {},
   "outputs": [],
   "source": [
    "serverIP = \"192.168.137.5\"\n",
    "serverPort = 6005\n",
    "bufferSize = 64\n"
   ]
  },
  {
   "cell_type": "code",
   "execution_count": 17,
   "metadata": {},
   "outputs": [],
   "source": [
    "UDPClientSocket = socket.socket(family=socket.AF_INET, type=socket.SOCK_DGRAM)"
   ]
  },
  {
   "cell_type": "code",
   "execution_count": 4,
   "metadata": {},
   "outputs": [
    {
     "name": "stdout",
     "output_type": "stream",
     "text": [
      "Sent: forward\n"
     ]
    }
   ],
   "source": [
    "msg = \"forward\"\n",
    "bytesToSend = str.encode(msg)\n",
    "\n",
    "UDPClientSocket.sendto(bytesToSend, (serverIP, serverPort))\n",
    "\n",
    "print(\"Sent: {}\".format(msg))"
   ]
  },
  {
   "cell_type": "code",
   "execution_count": 5,
   "metadata": {},
   "outputs": [
    {
     "name": "stdout",
     "output_type": "stream",
     "text": [
      "Received: (b'OK', ('192.168.137.4', 6004))\n"
     ]
    }
   ],
   "source": [
    "msgFromServer = UDPClientSocket.recvfrom(bufferSize)\n",
    "\n",
    "print(\"Received: {}\".format(msgFromServer))"
   ]
  },
  {
   "cell_type": "code",
   "execution_count": 20,
   "metadata": {},
   "outputs": [
    {
     "name": "stdout",
     "output_type": "stream",
     "text": [
      "Sent: stop\n"
     ]
    }
   ],
   "source": [
    "msg = \"stop\"\n",
    "bytesToSend = str.encode(msg)\n",
    "\n",
    "UDPClientSocket.sendto(bytesToSend, (serverIP, serverPort))\n",
    "\n",
    "print(\"Sent: {}\".format(msg))"
   ]
  },
  {
   "cell_type": "code",
   "execution_count": 21,
   "metadata": {},
   "outputs": [
    {
     "name": "stdout",
     "output_type": "stream",
     "text": [
      "Received: (b'OK', ('192.168.137.5', 6005))\n"
     ]
    }
   ],
   "source": [
    "msgFromServer = UDPClientSocket.recvfrom(bufferSize)\n",
    "\n",
    "print(\"Received: {}\".format(msgFromServer))"
   ]
  }
 ],
 "metadata": {
  "kernelspec": {
   "display_name": "Python 3.8.10 64-bit",
   "language": "python",
   "name": "python3"
  },
  "language_info": {
   "codemirror_mode": {
    "name": "ipython",
    "version": 3
   },
   "file_extension": ".py",
   "mimetype": "text/x-python",
   "name": "python",
   "nbconvert_exporter": "python",
   "pygments_lexer": "ipython3",
   "version": "3.8.10"
  },
  "orig_nbformat": 4,
  "vscode": {
   "interpreter": {
    "hash": "9650cb4e16cdd4a8e8e2d128bf38d875813998db22a3c986335f89e0cb4d7bb2"
   }
  }
 },
 "nbformat": 4,
 "nbformat_minor": 2
}
